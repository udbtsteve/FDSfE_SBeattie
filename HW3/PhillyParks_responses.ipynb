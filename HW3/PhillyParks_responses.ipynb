{
  "nbformat": 4,
  "nbformat_minor": 0,
  "metadata": {
    "colab": {
      "name": "PhillyParks_instructions",
      "provenance": [],
      "include_colab_link": true
    },
    "kernelspec": {
      "name": "python3",
      "display_name": "Python 3"
    }
  },
  "cells": [
    {
      "cell_type": "markdown",
      "metadata": {
        "id": "view-in-github",
        "colab_type": "text"
      },
      "source": [
        "<a href=\"https://colab.research.google.com/github/udbtsteve/PUS2022_SBeattie/blob/main/HW3/PhillyParks_responses.ipynb\" target=\"_parent\"><img src=\"https://colab.research.google.com/assets/colab-badge.svg\" alt=\"Open In Colab\"/></a>"
      ]
    },
    {
      "cell_type": "markdown",
      "metadata": {
        "id": "8f3dS08NNI9L"
      },
      "source": [
        "# HW2 : Summary statistics\n",
        "\n",
        "this homework performs strictly an exploratory analysis of the data\n",
        "\n",
        "Consult the https://www.cin.ufpe.br/~embat/Python%20for%20Data%20Analysis.pdf Python for Data Analysis book (pandas book) chapter 7 or this digital rendition of its content here https://github.com/fedhere/PUS2022_FBianco/blob/master/HW2/PandasCh7.ipynb. \n",
        "\n",
        "Also use the code examples in the folder classdemo https://github.com/fedhere/PUS2022_FBianco/tree/master/classdemo\n",
        "\n",
        "**important**\n",
        "turn in the notebook by uploading it to your github repository in a folder called HW3. Before you uploade the notebook make sure you \n",
        "- click above: Runtime -> Restart and run all\n",
        "\n",
        "this will assure that your notebook has not bugs due to running the cells of code out of order.\n"
      ]
    },
    {
      "cell_type": "code",
      "metadata": {
        "id": "bsvHG4L8PCGj"
      },
      "source": [
        "import pandas as pd\n",
        "import numpy as np\n",
        "import matplotlib.pylab as pl"
      ],
      "execution_count": null,
      "outputs": []
    },
    {
      "cell_type": "markdown",
      "metadata": {
        "id": "_V7he_fTwTGX"
      },
      "source": [
        "## Read in the data about the Philly parks \n",
        "you can find the data at \n",
        "http://data-phl.opendata.arcgis.com/datasets/d52445160ab14380a673e5849203eb64_0.csv"
      ]
    },
    {
      "cell_type": "code",
      "metadata": {
        "id": "O1W1r9xAPWSG"
      },
      "source": [
        "pparks = pd.read_csv(\"http://data-phl.opendata.arcgis.com/datasets/d52445160ab14380a673e5849203eb64_0.csv\")"
      ],
      "execution_count": null,
      "outputs": []
    },
    {
      "cell_type": "code",
      "source": [
        "# get the info and the statistical description of the dataframe\n",
        "pparks.info()"
      ],
      "metadata": {
        "id": "Tu-0OQ8ECQEv",
        "outputId": "686ce7bc-21f4-4679-dec2-e79ea8811dbc",
        "colab": {
          "base_uri": "https://localhost:8080/"
        }
      },
      "execution_count": null,
      "outputs": [
        {
          "output_type": "stream",
          "name": "stdout",
          "text": [
            "<class 'pandas.core.frame.DataFrame'>\n",
            "RangeIndex: 517 entries, 0 to 516\n",
            "Data columns (total 25 columns):\n",
            " #   Column                   Non-Null Count  Dtype  \n",
            "---  ------                   --------------  -----  \n",
            " 0   OBJECTID                 517 non-null    int64  \n",
            " 1   PUBLIC_NAME              517 non-null    object \n",
            " 2   PARENT_NAME              517 non-null    object \n",
            " 3   NESTED                   517 non-null    object \n",
            " 4   OFFICIAL_NAME            287 non-null    object \n",
            " 5   LABEL                    515 non-null    object \n",
            " 6   ALIAS                    356 non-null    object \n",
            " 7   DPP_ASSET_ID             517 non-null    int64  \n",
            " 8   ADDRESS_911              514 non-null    object \n",
            " 9   ZIP_CODE                 517 non-null    int64  \n",
            " 10  ADDRESS_BRT              433 non-null    object \n",
            " 11  ALIAS_ADDRESS            431 non-null    object \n",
            " 12  ACREAGE                  517 non-null    float64\n",
            " 13  PROPERTY_CLASSIFICATION  517 non-null    object \n",
            " 14  PPR_USE                  517 non-null    object \n",
            " 15  PPR_DISTRICT             517 non-null    int64  \n",
            " 16  PPR_OPS_DISTRICT         517 non-null    object \n",
            " 17  COUNCIL_DISTRICT         516 non-null    object \n",
            " 18  POLICE_DISTRICT          516 non-null    object \n",
            " 19  CITY_SCALE_MAPS          517 non-null    object \n",
            " 20  LOCAL_SCALE_MAPS         517 non-null    object \n",
            " 21  PROGRAM_SITES            517 non-null    object \n",
            " 22  COMMENTS                 146 non-null    object \n",
            " 23  Shape__Area              517 non-null    float64\n",
            " 24  Shape__Length            517 non-null    float64\n",
            "dtypes: float64(3), int64(4), object(18)\n",
            "memory usage: 101.1+ KB\n"
          ]
        }
      ]
    },
    {
      "cell_type": "code",
      "metadata": {
        "id": "16pd9FMlPpBA",
        "colab": {
          "base_uri": "https://localhost:8080/"
        },
        "outputId": "af7827b5-8f6b-49c7-e9ce-a852ac673464"
      },
      "source": [
        "# show the shape of the parks file dataframe\n",
        "pparks.shape"
      ],
      "execution_count": null,
      "outputs": [
        {
          "output_type": "execute_result",
          "data": {
            "text/plain": [
              "(517, 25)"
            ]
          },
          "metadata": {},
          "execution_count": 4
        }
      ]
    },
    {
      "cell_type": "code",
      "metadata": {
        "id": "UUQSYKFj5GKi",
        "colab": {
          "base_uri": "https://localhost:8080/"
        },
        "outputId": "5e0e5008-9016-40a4-b8b4-3393baae5fcb"
      },
      "source": [
        "# show the column names in the dataframe\n",
        "pparks.columns"
      ],
      "execution_count": null,
      "outputs": [
        {
          "output_type": "execute_result",
          "data": {
            "text/plain": [
              "Index(['OBJECTID', 'PUBLIC_NAME', 'PARENT_NAME', 'NESTED', 'OFFICIAL_NAME',\n",
              "       'LABEL', 'ALIAS', 'DPP_ASSET_ID', 'ADDRESS_911', 'ZIP_CODE',\n",
              "       'ADDRESS_BRT', 'ALIAS_ADDRESS', 'ACREAGE', 'PROPERTY_CLASSIFICATION',\n",
              "       'PPR_USE', 'PPR_DISTRICT', 'PPR_OPS_DISTRICT', 'COUNCIL_DISTRICT',\n",
              "       'POLICE_DISTRICT', 'CITY_SCALE_MAPS', 'LOCAL_SCALE_MAPS',\n",
              "       'PROGRAM_SITES', 'COMMENTS', 'Shape__Area', 'Shape__Length'],\n",
              "      dtype='object')"
            ]
          },
          "metadata": {},
          "execution_count": 5
        }
      ]
    },
    {
      "cell_type": "code",
      "metadata": {
        "id": "ftgUP5wA5NB2",
        "colab": {
          "base_uri": "https://localhost:8080/",
          "height": 629
        },
        "outputId": "fcd5c3d3-f557-43e5-b2d5-bef01312b4e5"
      },
      "source": [
        "# show the beginning of the dataframe (the first 5 rows)\n",
        "pparks.head()"
      ],
      "execution_count": null,
      "outputs": [
        {
          "output_type": "execute_result",
          "data": {
            "text/plain": [
              "   OBJECTID                                     PUBLIC_NAME  \\\n",
              "0         1  William H (Billy) Markward Memorial Playground   \n",
              "1         2                                Schuylkill Banks   \n",
              "2         3                           Schuylkill River Park   \n",
              "3         4                           Frankford Boat Launch   \n",
              "4         5                            Orthodox Street Park   \n",
              "\n",
              "             PARENT_NAME NESTED  \\\n",
              "0  Schuylkill River Park      Y   \n",
              "1       Schuylkill Banks      N   \n",
              "2  Schuylkill River Park      N   \n",
              "3  Frankford Boat Launch      N   \n",
              "4   Orthodox Street Park      N   \n",
              "\n",
              "                                     OFFICIAL_NAME                  LABEL  \\\n",
              "0  William H. (Billy) Markward Memorial Playground              Markward    \n",
              "1                                              NaN       Schuylkill Banks   \n",
              "2                                              NaN  Schuylkill River Park   \n",
              "3                            Frankford Boat Launch       Frankford Launch   \n",
              "4                                              NaN               Orthodox   \n",
              "\n",
              "                                               ALIAS  DPP_ASSET_ID  \\\n",
              "0                                                NaN          1903   \n",
              "1                              Schuylkill River Park          2794   \n",
              "2                                                NaN          2992   \n",
              "3       PA Fish & Boat;Frankford Arsenal Boat Launch          3090   \n",
              "4  Orthodox Street Parcel; Bridesburg Riverfront ...          3091   \n",
              "\n",
              "        ADDRESS_911  ZIP_CODE  ... PPR_DISTRICT PPR_OPS_DISTRICT  \\\n",
              "0    400 S TANEY ST     19146  ...            7             5, 7   \n",
              "1    400 S TANEY ST     19103  ...            7             5, 7   \n",
              "2    400 S TANEY ST     19146  ...            7             5, 7   \n",
              "3    5625 TACONY ST     19137  ...            2                2   \n",
              "4  3101 ORTHODOX ST     19137  ...            5                2   \n",
              "\n",
              "   COUNCIL_DISTRICT POLICE_DISTRICT CITY_SCALE_MAPS  LOCAL_SCALE_MAPS  \\\n",
              "0                 2               9               Y                 Y   \n",
              "1              2, 5           9, 17               Y                 Y   \n",
              "2                 2               9               Y                 Y   \n",
              "3                 6              15               Y                 Y   \n",
              "4                 6              15               N                 N   \n",
              "\n",
              "  PROGRAM_SITES                                           COMMENTS  \\\n",
              "0             Y                                                NaN   \n",
              "1             N    Bill 160113 (4/14/16) -South of South St Bridge   \n",
              "2             N                                                NaN   \n",
              "3             N                                                NaN   \n",
              "4             N  Officially acquired from PAID in 10/2019. Doc ...   \n",
              "\n",
              "     Shape__Area Shape__Length  \n",
              "0   23295.664062    892.868012  \n",
              "1  101477.171875   9300.670275  \n",
              "2   27216.929688    799.048584  \n",
              "3   78515.335938   1585.376114  \n",
              "4   72926.187500   1304.901416  \n",
              "\n",
              "[5 rows x 25 columns]"
            ],
            "text/html": [
              "\n",
              "  <div id=\"df-55aedb43-9e5e-4383-9ece-691b174a89bf\">\n",
              "    <div class=\"colab-df-container\">\n",
              "      <div>\n",
              "<style scoped>\n",
              "    .dataframe tbody tr th:only-of-type {\n",
              "        vertical-align: middle;\n",
              "    }\n",
              "\n",
              "    .dataframe tbody tr th {\n",
              "        vertical-align: top;\n",
              "    }\n",
              "\n",
              "    .dataframe thead th {\n",
              "        text-align: right;\n",
              "    }\n",
              "</style>\n",
              "<table border=\"1\" class=\"dataframe\">\n",
              "  <thead>\n",
              "    <tr style=\"text-align: right;\">\n",
              "      <th></th>\n",
              "      <th>OBJECTID</th>\n",
              "      <th>PUBLIC_NAME</th>\n",
              "      <th>PARENT_NAME</th>\n",
              "      <th>NESTED</th>\n",
              "      <th>OFFICIAL_NAME</th>\n",
              "      <th>LABEL</th>\n",
              "      <th>ALIAS</th>\n",
              "      <th>DPP_ASSET_ID</th>\n",
              "      <th>ADDRESS_911</th>\n",
              "      <th>ZIP_CODE</th>\n",
              "      <th>...</th>\n",
              "      <th>PPR_DISTRICT</th>\n",
              "      <th>PPR_OPS_DISTRICT</th>\n",
              "      <th>COUNCIL_DISTRICT</th>\n",
              "      <th>POLICE_DISTRICT</th>\n",
              "      <th>CITY_SCALE_MAPS</th>\n",
              "      <th>LOCAL_SCALE_MAPS</th>\n",
              "      <th>PROGRAM_SITES</th>\n",
              "      <th>COMMENTS</th>\n",
              "      <th>Shape__Area</th>\n",
              "      <th>Shape__Length</th>\n",
              "    </tr>\n",
              "  </thead>\n",
              "  <tbody>\n",
              "    <tr>\n",
              "      <th>0</th>\n",
              "      <td>1</td>\n",
              "      <td>William H (Billy) Markward Memorial Playground</td>\n",
              "      <td>Schuylkill River Park</td>\n",
              "      <td>Y</td>\n",
              "      <td>William H. (Billy) Markward Memorial Playground</td>\n",
              "      <td>Markward</td>\n",
              "      <td>NaN</td>\n",
              "      <td>1903</td>\n",
              "      <td>400 S TANEY ST</td>\n",
              "      <td>19146</td>\n",
              "      <td>...</td>\n",
              "      <td>7</td>\n",
              "      <td>5, 7</td>\n",
              "      <td>2</td>\n",
              "      <td>9</td>\n",
              "      <td>Y</td>\n",
              "      <td>Y</td>\n",
              "      <td>Y</td>\n",
              "      <td>NaN</td>\n",
              "      <td>23295.664062</td>\n",
              "      <td>892.868012</td>\n",
              "    </tr>\n",
              "    <tr>\n",
              "      <th>1</th>\n",
              "      <td>2</td>\n",
              "      <td>Schuylkill Banks</td>\n",
              "      <td>Schuylkill Banks</td>\n",
              "      <td>N</td>\n",
              "      <td>NaN</td>\n",
              "      <td>Schuylkill Banks</td>\n",
              "      <td>Schuylkill River Park</td>\n",
              "      <td>2794</td>\n",
              "      <td>400 S TANEY ST</td>\n",
              "      <td>19103</td>\n",
              "      <td>...</td>\n",
              "      <td>7</td>\n",
              "      <td>5, 7</td>\n",
              "      <td>2, 5</td>\n",
              "      <td>9, 17</td>\n",
              "      <td>Y</td>\n",
              "      <td>Y</td>\n",
              "      <td>N</td>\n",
              "      <td>Bill 160113 (4/14/16) -South of South St Bridge</td>\n",
              "      <td>101477.171875</td>\n",
              "      <td>9300.670275</td>\n",
              "    </tr>\n",
              "    <tr>\n",
              "      <th>2</th>\n",
              "      <td>3</td>\n",
              "      <td>Schuylkill River Park</td>\n",
              "      <td>Schuylkill River Park</td>\n",
              "      <td>N</td>\n",
              "      <td>NaN</td>\n",
              "      <td>Schuylkill River Park</td>\n",
              "      <td>NaN</td>\n",
              "      <td>2992</td>\n",
              "      <td>400 S TANEY ST</td>\n",
              "      <td>19146</td>\n",
              "      <td>...</td>\n",
              "      <td>7</td>\n",
              "      <td>5, 7</td>\n",
              "      <td>2</td>\n",
              "      <td>9</td>\n",
              "      <td>Y</td>\n",
              "      <td>Y</td>\n",
              "      <td>N</td>\n",
              "      <td>NaN</td>\n",
              "      <td>27216.929688</td>\n",
              "      <td>799.048584</td>\n",
              "    </tr>\n",
              "    <tr>\n",
              "      <th>3</th>\n",
              "      <td>4</td>\n",
              "      <td>Frankford Boat Launch</td>\n",
              "      <td>Frankford Boat Launch</td>\n",
              "      <td>N</td>\n",
              "      <td>Frankford Boat Launch</td>\n",
              "      <td>Frankford Launch</td>\n",
              "      <td>PA Fish &amp; Boat;Frankford Arsenal Boat Launch</td>\n",
              "      <td>3090</td>\n",
              "      <td>5625 TACONY ST</td>\n",
              "      <td>19137</td>\n",
              "      <td>...</td>\n",
              "      <td>2</td>\n",
              "      <td>2</td>\n",
              "      <td>6</td>\n",
              "      <td>15</td>\n",
              "      <td>Y</td>\n",
              "      <td>Y</td>\n",
              "      <td>N</td>\n",
              "      <td>NaN</td>\n",
              "      <td>78515.335938</td>\n",
              "      <td>1585.376114</td>\n",
              "    </tr>\n",
              "    <tr>\n",
              "      <th>4</th>\n",
              "      <td>5</td>\n",
              "      <td>Orthodox Street Park</td>\n",
              "      <td>Orthodox Street Park</td>\n",
              "      <td>N</td>\n",
              "      <td>NaN</td>\n",
              "      <td>Orthodox</td>\n",
              "      <td>Orthodox Street Parcel; Bridesburg Riverfront ...</td>\n",
              "      <td>3091</td>\n",
              "      <td>3101 ORTHODOX ST</td>\n",
              "      <td>19137</td>\n",
              "      <td>...</td>\n",
              "      <td>5</td>\n",
              "      <td>2</td>\n",
              "      <td>6</td>\n",
              "      <td>15</td>\n",
              "      <td>N</td>\n",
              "      <td>N</td>\n",
              "      <td>N</td>\n",
              "      <td>Officially acquired from PAID in 10/2019. Doc ...</td>\n",
              "      <td>72926.187500</td>\n",
              "      <td>1304.901416</td>\n",
              "    </tr>\n",
              "  </tbody>\n",
              "</table>\n",
              "<p>5 rows × 25 columns</p>\n",
              "</div>\n",
              "      <button class=\"colab-df-convert\" onclick=\"convertToInteractive('df-55aedb43-9e5e-4383-9ece-691b174a89bf')\"\n",
              "              title=\"Convert this dataframe to an interactive table.\"\n",
              "              style=\"display:none;\">\n",
              "        \n",
              "  <svg xmlns=\"http://www.w3.org/2000/svg\" height=\"24px\"viewBox=\"0 0 24 24\"\n",
              "       width=\"24px\">\n",
              "    <path d=\"M0 0h24v24H0V0z\" fill=\"none\"/>\n",
              "    <path d=\"M18.56 5.44l.94 2.06.94-2.06 2.06-.94-2.06-.94-.94-2.06-.94 2.06-2.06.94zm-11 1L8.5 8.5l.94-2.06 2.06-.94-2.06-.94L8.5 2.5l-.94 2.06-2.06.94zm10 10l.94 2.06.94-2.06 2.06-.94-2.06-.94-.94-2.06-.94 2.06-2.06.94z\"/><path d=\"M17.41 7.96l-1.37-1.37c-.4-.4-.92-.59-1.43-.59-.52 0-1.04.2-1.43.59L10.3 9.45l-7.72 7.72c-.78.78-.78 2.05 0 2.83L4 21.41c.39.39.9.59 1.41.59.51 0 1.02-.2 1.41-.59l7.78-7.78 2.81-2.81c.8-.78.8-2.07 0-2.86zM5.41 20L4 18.59l7.72-7.72 1.47 1.35L5.41 20z\"/>\n",
              "  </svg>\n",
              "      </button>\n",
              "      \n",
              "  <style>\n",
              "    .colab-df-container {\n",
              "      display:flex;\n",
              "      flex-wrap:wrap;\n",
              "      gap: 12px;\n",
              "    }\n",
              "\n",
              "    .colab-df-convert {\n",
              "      background-color: #E8F0FE;\n",
              "      border: none;\n",
              "      border-radius: 50%;\n",
              "      cursor: pointer;\n",
              "      display: none;\n",
              "      fill: #1967D2;\n",
              "      height: 32px;\n",
              "      padding: 0 0 0 0;\n",
              "      width: 32px;\n",
              "    }\n",
              "\n",
              "    .colab-df-convert:hover {\n",
              "      background-color: #E2EBFA;\n",
              "      box-shadow: 0px 1px 2px rgba(60, 64, 67, 0.3), 0px 1px 3px 1px rgba(60, 64, 67, 0.15);\n",
              "      fill: #174EA6;\n",
              "    }\n",
              "\n",
              "    [theme=dark] .colab-df-convert {\n",
              "      background-color: #3B4455;\n",
              "      fill: #D2E3FC;\n",
              "    }\n",
              "\n",
              "    [theme=dark] .colab-df-convert:hover {\n",
              "      background-color: #434B5C;\n",
              "      box-shadow: 0px 1px 3px 1px rgba(0, 0, 0, 0.15);\n",
              "      filter: drop-shadow(0px 1px 2px rgba(0, 0, 0, 0.3));\n",
              "      fill: #FFFFFF;\n",
              "    }\n",
              "  </style>\n",
              "\n",
              "      <script>\n",
              "        const buttonEl =\n",
              "          document.querySelector('#df-55aedb43-9e5e-4383-9ece-691b174a89bf button.colab-df-convert');\n",
              "        buttonEl.style.display =\n",
              "          google.colab.kernel.accessAllowed ? 'block' : 'none';\n",
              "\n",
              "        async function convertToInteractive(key) {\n",
              "          const element = document.querySelector('#df-55aedb43-9e5e-4383-9ece-691b174a89bf');\n",
              "          const dataTable =\n",
              "            await google.colab.kernel.invokeFunction('convertToInteractive',\n",
              "                                                     [key], {});\n",
              "          if (!dataTable) return;\n",
              "\n",
              "          const docLinkHtml = 'Like what you see? Visit the ' +\n",
              "            '<a target=\"_blank\" href=https://colab.research.google.com/notebooks/data_table.ipynb>data table notebook</a>'\n",
              "            + ' to learn more about interactive tables.';\n",
              "          element.innerHTML = '';\n",
              "          dataTable['output_type'] = 'display_data';\n",
              "          await google.colab.output.renderOutput(dataTable, element);\n",
              "          const docLink = document.createElement('div');\n",
              "          docLink.innerHTML = docLinkHtml;\n",
              "          element.appendChild(docLink);\n",
              "        }\n",
              "      </script>\n",
              "    </div>\n",
              "  </div>\n",
              "  "
            ]
          },
          "metadata": {},
          "execution_count": 6
        }
      ]
    },
    {
      "cell_type": "code",
      "metadata": {
        "id": "fskIVgPM3ZnC",
        "colab": {
          "base_uri": "https://localhost:8080/",
          "height": 612
        },
        "outputId": "45b534d8-be92-4745-f903-a0abc41357d9"
      },
      "source": [
        "# show the end of the dataframe (the last 5 rows)\n",
        "pparks.tail()"
      ],
      "execution_count": null,
      "outputs": [
        {
          "output_type": "execute_result",
          "data": {
            "text/plain": [
              "     OBJECTID                               PUBLIC_NAME  \\\n",
              "512       513  Officer Robert Hayes Memorial Playground   \n",
              "513       514                 Benjamin Franklin Parkway   \n",
              "514       515                    Winter Street Greenway   \n",
              "515       516                 61st and Cobbs Creek Park   \n",
              "516       517                 Lawrence Court Breezeways   \n",
              "\n",
              "                                  PARENT_NAME NESTED  \\\n",
              "512  Officer Robert Hayes Memorial Playground      N   \n",
              "513                 Benjamin Franklin Parkway      N   \n",
              "514                 Benjamin Franklin Parkway      Y   \n",
              "515                          Cobbs Creek Park      Y   \n",
              "516                 Lawrence Court Breezeways      N   \n",
              "\n",
              "                                OFFICIAL_NAME                   LABEL  \\\n",
              "512  Officer Robert Hayes Memorial Playground                   Hayes   \n",
              "513                 Benjamin Franklin Parkway  Benjamin Franklin Pkwy   \n",
              "514                                       NaN         Winter Greenway   \n",
              "515                                       NaN    61st and Cobbs Creek   \n",
              "516                                       NaN      Lawrence Breezeway   \n",
              "\n",
              "                                                 ALIAS  DPP_ASSET_ID  \\\n",
              "512                              Swenson Park, Conwell          1923   \n",
              "513                                        The Parkway          1226   \n",
              "514  Rob Stuart Memorial Dog Park; Winter Street Gr...             0   \n",
              "515                                                             3481   \n",
              "516                            Lawrence Court Walkways          3867   \n",
              "\n",
              "            ADDRESS_911  ZIP_CODE  ... PPR_DISTRICT PPR_OPS_DISTRICT  \\\n",
              "512   9949 PRESIDENT ST     19115  ...            1                1   \n",
              "513   BENJ FRANKLIN PKY         0  ...            7                5   \n",
              "514   BENJ FRANKLIN PKY         0  ...            7                5   \n",
              "515  61ST & COBBS CREEK     19143  ...            8                8   \n",
              "516     335 LAWRENCE CT     19106  ...           10                5   \n",
              "\n",
              "     COUNCIL_DISTRICT POLICE_DISTRICT CITY_SCALE_MAPS  LOCAL_SCALE_MAPS  \\\n",
              "512                10               7               Y                 Y   \n",
              "513                 5               9               Y                 Y   \n",
              "514                 5               9               N                 Y   \n",
              "515                 3              18               Y                 Y   \n",
              "516                 1               6               N                 Y   \n",
              "\n",
              "    PROGRAM_SITES                                           COMMENTS  \\\n",
              "512             Y                                                NaN   \n",
              "513             N  22nd and Hamilton 'wedge' added (Street Legal ...   \n",
              "514             N  Named in 2021. Winter (21st-22nd) has a dog pa...   \n",
              "515             Y                                                NaN   \n",
              "516             N                                                NaN   \n",
              "\n",
              "       Shape__Area Shape__Length  \n",
              "512  139660.027344   1698.902277  \n",
              "513  103066.453125   9195.466911  \n",
              "514    5386.812500    679.857371  \n",
              "515   35596.937500   1037.395645  \n",
              "516    1945.863281    394.259401  \n",
              "\n",
              "[5 rows x 25 columns]"
            ],
            "text/html": [
              "\n",
              "  <div id=\"df-cfd78bea-4053-4e66-802f-87e1dea134a2\">\n",
              "    <div class=\"colab-df-container\">\n",
              "      <div>\n",
              "<style scoped>\n",
              "    .dataframe tbody tr th:only-of-type {\n",
              "        vertical-align: middle;\n",
              "    }\n",
              "\n",
              "    .dataframe tbody tr th {\n",
              "        vertical-align: top;\n",
              "    }\n",
              "\n",
              "    .dataframe thead th {\n",
              "        text-align: right;\n",
              "    }\n",
              "</style>\n",
              "<table border=\"1\" class=\"dataframe\">\n",
              "  <thead>\n",
              "    <tr style=\"text-align: right;\">\n",
              "      <th></th>\n",
              "      <th>OBJECTID</th>\n",
              "      <th>PUBLIC_NAME</th>\n",
              "      <th>PARENT_NAME</th>\n",
              "      <th>NESTED</th>\n",
              "      <th>OFFICIAL_NAME</th>\n",
              "      <th>LABEL</th>\n",
              "      <th>ALIAS</th>\n",
              "      <th>DPP_ASSET_ID</th>\n",
              "      <th>ADDRESS_911</th>\n",
              "      <th>ZIP_CODE</th>\n",
              "      <th>...</th>\n",
              "      <th>PPR_DISTRICT</th>\n",
              "      <th>PPR_OPS_DISTRICT</th>\n",
              "      <th>COUNCIL_DISTRICT</th>\n",
              "      <th>POLICE_DISTRICT</th>\n",
              "      <th>CITY_SCALE_MAPS</th>\n",
              "      <th>LOCAL_SCALE_MAPS</th>\n",
              "      <th>PROGRAM_SITES</th>\n",
              "      <th>COMMENTS</th>\n",
              "      <th>Shape__Area</th>\n",
              "      <th>Shape__Length</th>\n",
              "    </tr>\n",
              "  </thead>\n",
              "  <tbody>\n",
              "    <tr>\n",
              "      <th>512</th>\n",
              "      <td>513</td>\n",
              "      <td>Officer Robert Hayes Memorial Playground</td>\n",
              "      <td>Officer Robert Hayes Memorial Playground</td>\n",
              "      <td>N</td>\n",
              "      <td>Officer Robert Hayes Memorial Playground</td>\n",
              "      <td>Hayes</td>\n",
              "      <td>Swenson Park, Conwell</td>\n",
              "      <td>1923</td>\n",
              "      <td>9949 PRESIDENT ST</td>\n",
              "      <td>19115</td>\n",
              "      <td>...</td>\n",
              "      <td>1</td>\n",
              "      <td>1</td>\n",
              "      <td>10</td>\n",
              "      <td>7</td>\n",
              "      <td>Y</td>\n",
              "      <td>Y</td>\n",
              "      <td>Y</td>\n",
              "      <td>NaN</td>\n",
              "      <td>139660.027344</td>\n",
              "      <td>1698.902277</td>\n",
              "    </tr>\n",
              "    <tr>\n",
              "      <th>513</th>\n",
              "      <td>514</td>\n",
              "      <td>Benjamin Franklin Parkway</td>\n",
              "      <td>Benjamin Franklin Parkway</td>\n",
              "      <td>N</td>\n",
              "      <td>Benjamin Franklin Parkway</td>\n",
              "      <td>Benjamin Franklin Pkwy</td>\n",
              "      <td>The Parkway</td>\n",
              "      <td>1226</td>\n",
              "      <td>BENJ FRANKLIN PKY</td>\n",
              "      <td>0</td>\n",
              "      <td>...</td>\n",
              "      <td>7</td>\n",
              "      <td>5</td>\n",
              "      <td>5</td>\n",
              "      <td>9</td>\n",
              "      <td>Y</td>\n",
              "      <td>Y</td>\n",
              "      <td>N</td>\n",
              "      <td>22nd and Hamilton 'wedge' added (Street Legal ...</td>\n",
              "      <td>103066.453125</td>\n",
              "      <td>9195.466911</td>\n",
              "    </tr>\n",
              "    <tr>\n",
              "      <th>514</th>\n",
              "      <td>515</td>\n",
              "      <td>Winter Street Greenway</td>\n",
              "      <td>Benjamin Franklin Parkway</td>\n",
              "      <td>Y</td>\n",
              "      <td>NaN</td>\n",
              "      <td>Winter Greenway</td>\n",
              "      <td>Rob Stuart Memorial Dog Park; Winter Street Gr...</td>\n",
              "      <td>0</td>\n",
              "      <td>BENJ FRANKLIN PKY</td>\n",
              "      <td>0</td>\n",
              "      <td>...</td>\n",
              "      <td>7</td>\n",
              "      <td>5</td>\n",
              "      <td>5</td>\n",
              "      <td>9</td>\n",
              "      <td>N</td>\n",
              "      <td>Y</td>\n",
              "      <td>N</td>\n",
              "      <td>Named in 2021. Winter (21st-22nd) has a dog pa...</td>\n",
              "      <td>5386.812500</td>\n",
              "      <td>679.857371</td>\n",
              "    </tr>\n",
              "    <tr>\n",
              "      <th>515</th>\n",
              "      <td>516</td>\n",
              "      <td>61st and Cobbs Creek Park</td>\n",
              "      <td>Cobbs Creek Park</td>\n",
              "      <td>Y</td>\n",
              "      <td>NaN</td>\n",
              "      <td>61st and Cobbs Creek</td>\n",
              "      <td></td>\n",
              "      <td>3481</td>\n",
              "      <td>61ST &amp; COBBS CREEK</td>\n",
              "      <td>19143</td>\n",
              "      <td>...</td>\n",
              "      <td>8</td>\n",
              "      <td>8</td>\n",
              "      <td>3</td>\n",
              "      <td>18</td>\n",
              "      <td>Y</td>\n",
              "      <td>Y</td>\n",
              "      <td>Y</td>\n",
              "      <td>NaN</td>\n",
              "      <td>35596.937500</td>\n",
              "      <td>1037.395645</td>\n",
              "    </tr>\n",
              "    <tr>\n",
              "      <th>516</th>\n",
              "      <td>517</td>\n",
              "      <td>Lawrence Court Breezeways</td>\n",
              "      <td>Lawrence Court Breezeways</td>\n",
              "      <td>N</td>\n",
              "      <td>NaN</td>\n",
              "      <td>Lawrence Breezeway</td>\n",
              "      <td>Lawrence Court Walkways</td>\n",
              "      <td>3867</td>\n",
              "      <td>335 LAWRENCE CT</td>\n",
              "      <td>19106</td>\n",
              "      <td>...</td>\n",
              "      <td>10</td>\n",
              "      <td>5</td>\n",
              "      <td>1</td>\n",
              "      <td>6</td>\n",
              "      <td>N</td>\n",
              "      <td>Y</td>\n",
              "      <td>N</td>\n",
              "      <td>NaN</td>\n",
              "      <td>1945.863281</td>\n",
              "      <td>394.259401</td>\n",
              "    </tr>\n",
              "  </tbody>\n",
              "</table>\n",
              "<p>5 rows × 25 columns</p>\n",
              "</div>\n",
              "      <button class=\"colab-df-convert\" onclick=\"convertToInteractive('df-cfd78bea-4053-4e66-802f-87e1dea134a2')\"\n",
              "              title=\"Convert this dataframe to an interactive table.\"\n",
              "              style=\"display:none;\">\n",
              "        \n",
              "  <svg xmlns=\"http://www.w3.org/2000/svg\" height=\"24px\"viewBox=\"0 0 24 24\"\n",
              "       width=\"24px\">\n",
              "    <path d=\"M0 0h24v24H0V0z\" fill=\"none\"/>\n",
              "    <path d=\"M18.56 5.44l.94 2.06.94-2.06 2.06-.94-2.06-.94-.94-2.06-.94 2.06-2.06.94zm-11 1L8.5 8.5l.94-2.06 2.06-.94-2.06-.94L8.5 2.5l-.94 2.06-2.06.94zm10 10l.94 2.06.94-2.06 2.06-.94-2.06-.94-.94-2.06-.94 2.06-2.06.94z\"/><path d=\"M17.41 7.96l-1.37-1.37c-.4-.4-.92-.59-1.43-.59-.52 0-1.04.2-1.43.59L10.3 9.45l-7.72 7.72c-.78.78-.78 2.05 0 2.83L4 21.41c.39.39.9.59 1.41.59.51 0 1.02-.2 1.41-.59l7.78-7.78 2.81-2.81c.8-.78.8-2.07 0-2.86zM5.41 20L4 18.59l7.72-7.72 1.47 1.35L5.41 20z\"/>\n",
              "  </svg>\n",
              "      </button>\n",
              "      \n",
              "  <style>\n",
              "    .colab-df-container {\n",
              "      display:flex;\n",
              "      flex-wrap:wrap;\n",
              "      gap: 12px;\n",
              "    }\n",
              "\n",
              "    .colab-df-convert {\n",
              "      background-color: #E8F0FE;\n",
              "      border: none;\n",
              "      border-radius: 50%;\n",
              "      cursor: pointer;\n",
              "      display: none;\n",
              "      fill: #1967D2;\n",
              "      height: 32px;\n",
              "      padding: 0 0 0 0;\n",
              "      width: 32px;\n",
              "    }\n",
              "\n",
              "    .colab-df-convert:hover {\n",
              "      background-color: #E2EBFA;\n",
              "      box-shadow: 0px 1px 2px rgba(60, 64, 67, 0.3), 0px 1px 3px 1px rgba(60, 64, 67, 0.15);\n",
              "      fill: #174EA6;\n",
              "    }\n",
              "\n",
              "    [theme=dark] .colab-df-convert {\n",
              "      background-color: #3B4455;\n",
              "      fill: #D2E3FC;\n",
              "    }\n",
              "\n",
              "    [theme=dark] .colab-df-convert:hover {\n",
              "      background-color: #434B5C;\n",
              "      box-shadow: 0px 1px 3px 1px rgba(0, 0, 0, 0.15);\n",
              "      filter: drop-shadow(0px 1px 2px rgba(0, 0, 0, 0.3));\n",
              "      fill: #FFFFFF;\n",
              "    }\n",
              "  </style>\n",
              "\n",
              "      <script>\n",
              "        const buttonEl =\n",
              "          document.querySelector('#df-cfd78bea-4053-4e66-802f-87e1dea134a2 button.colab-df-convert');\n",
              "        buttonEl.style.display =\n",
              "          google.colab.kernel.accessAllowed ? 'block' : 'none';\n",
              "\n",
              "        async function convertToInteractive(key) {\n",
              "          const element = document.querySelector('#df-cfd78bea-4053-4e66-802f-87e1dea134a2');\n",
              "          const dataTable =\n",
              "            await google.colab.kernel.invokeFunction('convertToInteractive',\n",
              "                                                     [key], {});\n",
              "          if (!dataTable) return;\n",
              "\n",
              "          const docLinkHtml = 'Like what you see? Visit the ' +\n",
              "            '<a target=\"_blank\" href=https://colab.research.google.com/notebooks/data_table.ipynb>data table notebook</a>'\n",
              "            + ' to learn more about interactive tables.';\n",
              "          element.innerHTML = '';\n",
              "          dataTable['output_type'] = 'display_data';\n",
              "          await google.colab.output.renderOutput(dataTable, element);\n",
              "          const docLink = document.createElement('div');\n",
              "          docLink.innerHTML = docLinkHtml;\n",
              "          element.appendChild(docLink);\n",
              "        }\n",
              "      </script>\n",
              "    </div>\n",
              "  </div>\n",
              "  "
            ]
          },
          "metadata": {},
          "execution_count": 7
        }
      ]
    },
    {
      "cell_type": "markdown",
      "metadata": {
        "id": "EyfxxJTQ1oKR"
      },
      "source": [
        "## meausre the central tendency of the Philly park sizes\n",
        "measure the mean and the median and compare them"
      ]
    },
    {
      "cell_type": "code",
      "metadata": {
        "id": "Z57bH4c99E_k",
        "outputId": "92563e23-75c0-4c23-d4b6-aaf59bb8513a",
        "colab": {
          "base_uri": "https://localhost:8080/"
        }
      },
      "source": [
        "meanps = np.mean(pparks[\"Shape__Area\"])\n",
        "meanps"
      ],
      "execution_count": null,
      "outputs": [
        {
          "output_type": "execute_result",
          "data": {
            "text/plain": [
              "135547.1377765354"
            ]
          },
          "metadata": {},
          "execution_count": 8
        }
      ]
    },
    {
      "cell_type": "code",
      "metadata": {
        "id": "Sa8T8XRv9HNW",
        "outputId": "ac165570-5825-40bc-b428-c909d4a33115",
        "colab": {
          "base_uri": "https://localhost:8080/"
        }
      },
      "source": [
        "# show the median size of the dataframe \n",
        "# are they the same? \n",
        "medianps = np.median(pparks[\"Shape__Area\"])\n",
        "\n",
        "medianps\n",
        "meanps == medianps"
      ],
      "execution_count": null,
      "outputs": [
        {
          "output_type": "execute_result",
          "data": {
            "text/plain": [
              "False"
            ]
          },
          "metadata": {},
          "execution_count": 9
        }
      ]
    },
    {
      "cell_type": "markdown",
      "metadata": {
        "id": "tMGgOIF374IN"
      },
      "source": [
        "what can you conclude from \n",
        " the values of the mean and median you extracted? (discuss in a text cell below)"
      ]
    },
    {
      "cell_type": "code",
      "source": [
        "# If we assume that the dataset has complete 'observations' for all Philadelphia \n",
        "# parks, a mean park size greater than the median park size indicates a \n",
        "# right-skewed distribution of park sizes. If the dataset only had observations \n",
        "# for a subset of parks, we would be talking about the distribution of size\n",
        "# observations within the sample, and then maybe inferring something about the \n",
        "# overall 'population' of Philadelphia parks (and their respective sizes) -- but \n",
        "# here, we assume that we can consider the distribution of park sizes directly."
      ],
      "metadata": {
        "id": "38c-h6dEsBM-"
      },
      "execution_count": null,
      "outputs": []
    },
    {
      "cell_type": "markdown",
      "source": [
        "hint: to plot a line over the histogram use ```pl.axvline(x=myx)``` and pass to this function \n",
        "the x value corresponding to the mean and to the median (in my example that would be called myx). \n",
        "As a default, this will plot a line that spanns the whole y range"
      ],
      "metadata": {
        "id": "UK4duyfabVzT"
      }
    },
    {
      "cell_type": "markdown",
      "source": [
        "hint: you can import the plotting package matplotlib.pylab and call pylab functions as \n",
        "```pl.plot()```\n",
        "```pl.axvline()```\n",
        "```pl.xlabel```\n",
        "\n",
        "or you can create a figure with the first command starting from the pandas dataframe as\n",
        "```ax = pparks[\"ACREAGE\"].hist()```\n",
        "\n",
        "and then use methods specific of the axis object ```ax```: ```ax.plot()``` ```ax.axvline()``` ```ax.set_xlabel```\n",
        "\n",
        "most of the commands are the same or have small differences (e.g. ```ax.set_xlabel``` instead of ```pl.xlabel```)"
      ],
      "metadata": {
        "id": "HVSWdlklbbZ2"
      }
    },
    {
      "cell_type": "code",
      "metadata": {
        "id": "JFjko-wE5dKu",
        "colab": {
          "base_uri": "https://localhost:8080/",
          "height": 295
        },
        "outputId": "34019be7-a35c-4824-9a7b-0fdceddcb73c"
      },
      "source": [
        "# visualize a histogram of the park size. \n",
        "# you can use the method of the ACREAGE column .hist()\n",
        "# choose an appropriate number of bins with the argument bins=\n",
        "# overplot on the histogram the mean and the median of the distribution\n",
        "\n",
        "ax = pparks[\"ACREAGE\"].hist(bins=int(np.ceil(np.log2(len(pparks))) + 1))\n",
        "# ax = pparks[\"ACREAGE\"].hist()\n",
        "\n",
        "pparks_meanAcres = np.mean(pparks[\"ACREAGE\"])\n",
        "pparks_medAcres = np.median(pparks[\"ACREAGE\"])\n",
        "\n",
        "ax.axvline(x = pparks_meanAcres, color = \"orange\", linestyle = \"-\", label = 'Mean Acreage')\n",
        "ax.axvline(x = pparks_medAcres, color = \"violet\", linestyle = \"-\", label = 'Median Acreage')\n",
        "           \n",
        "ax.set_xlabel(\"Park Size (in Acres)\")\n",
        "ax.set_ylabel(\"Number of Parks\")\n",
        "ax.set_title(\"City Park Acreage Distribution in Philadelphia, PA (n.d.)\")\n",
        "ax.legend(); #to get the legend to render pass to axvline the argument label=\"...\" with ... being whatever you want displayed"
      ],
      "execution_count": null,
      "outputs": [
        {
          "output_type": "display_data",
          "data": {
            "text/plain": [
              "<Figure size 432x288 with 1 Axes>"
            ],
            "image/png": "[encoded data removed]"
          },
          "metadata": {
            "needs_background": "light"
          }
        }
      ]
    },
    {
      "cell_type": "markdown",
      "metadata": {
        "id": "CIT4FVfp00jW"
      },
      "source": [
        "\n",
        "Figure Caption: Plotted data shows the distribution of park size, by acreage, in Philadelphia PA (n.d.); reference lines are included showing the mean and median acreage values across all city parks. Note that the mean acreage is greater than the median acreage, indicating a right-skewed distribution of sizes.\n"
      ]
    },
    {
      "cell_type": "markdown",
      "metadata": {
        "id": "VlJDAh6s1ESG"
      },
      "source": [
        "## what is the spread of park sizes?\n",
        "calculate the standard deviation of the park sized"
      ]
    },
    {
      "cell_type": "code",
      "metadata": {
        "id": "oFarBw6i2GFG",
        "colab": {
          "base_uri": "https://localhost:8080/"
        },
        "outputId": "a4e67fb6-c560-4d15-ca63-ed24aad894ad"
      },
      "source": [
        "stdps = pparks_sdAcres = np.std(pparks[\"ACREAGE\"])\n",
        "pparks_sdAcres"
      ],
      "execution_count": null,
      "outputs": [
        {
          "output_type": "execute_result",
          "data": {
            "text/plain": [
              "110.19552225378398"
            ]
          },
          "metadata": {},
          "execution_count": 11
        }
      ]
    },
    {
      "cell_type": "markdown",
      "metadata": {
        "id": "3av2lwsDx3vu"
      },
      "source": [
        "## select only a subset of the parks: the pasks smaller than 10 acres\n",
        "(you can do it similarly to the way we removed \"Unknown\" from the criminal arrests data in class: set a condition and use it to index the dataframe)\n",
        "\n",
        "calculate the mean and median and plot a histogram of the park sized with the mean and median indicated on the plot"
      ]
    },
    {
      "cell_type": "code",
      "metadata": {
        "id": "3lWmW957-NLa",
        "outputId": "b3148d81-89be-4ee3-d1a9-7db48ec26273",
        "colab": {
          "base_uri": "https://localhost:8080/",
          "height": 312
        }
      },
      "source": [
        "# if you need help with this step do ask me about boolean arrays used as indices\n",
        "# and slicing of arrays and series! remember we have a slack channel #hw2\n",
        "pparks_smallSizes = pparks[pparks[\"ACREAGE\"] < 10][\"ACREAGE\"]\n",
        "pparks_smallSizes\n",
        "\n",
        "pparks_small_meanAcres = np.mean(pparks_smallSizes)\n",
        "pparks_small_medAcres = np.median(pparks_smallSizes)\n",
        "\n",
        "ax = pparks_smallSizes.hist(bins=int(np.ceil(np.log2(len(pparks_smallSizes))) + 1))\n",
        "\n",
        "ax.axvline(x = pparks_small_meanAcres, color = \"orange\", linestyle = \"-\", label = 'Mean Acreage')\n",
        "ax.axvline(x = pparks_small_medAcres, color = \"violet\", linestyle = \"-\", label = 'Median Acreage')\n",
        "           \n",
        "ax.set_xlabel(\"Park Size (in Acres)\")\n",
        "ax.set_ylabel(\"Number of Parks\")\n",
        "ax.set_title(\"Acreage Distribution of \\\"Small\\\" Parks In Philadelphia\")\n",
        "ax.legend()"
      ],
      "execution_count": null,
      "outputs": [
        {
          "output_type": "execute_result",
          "data": {
            "text/plain": [
              "<matplotlib.legend.Legend at 0x7f6bc92c3f10>"
            ]
          },
          "metadata": {},
          "execution_count": 32
        },
        {
          "output_type": "display_data",
          "data": {
            "text/plain": [
              "<Figure size 432x288 with 1 Axes>"
            ],
            "image/png": "[encoded data removed]"
          },
          "metadata": {
            "needs_background": "light"
          }
        }
      ]
    },
    {
      "cell_type": "markdown",
      "metadata": {
        "id": "34a6oAaM1DJG"
      },
      "source": [
        "\n",
        "Figure Caption: Plotted data shows the distribution of 'small' park sizes, by acreage, in Philadelphia PA (n.d.); here, we define 'small' to be less than 10 acres. Reference lines are included showing the mean and median acreage values across 'small' parks. Note that the mean 'small park' acreage is greater than the median 'small park' acreage, indicating a right-skewed distribution of sizes.\n"
      ]
    },
    {
      "cell_type": "markdown",
      "metadata": {
        "id": "vPDVrnGb3xwF"
      },
      "source": [
        "\n",
        "the parks listed in each row are in some cases subsets of larger parks. The \"parent\" park is listed under PARENT_NAME. \n",
        "\n",
        "The challenge is to visualize the distribution of sizes of the  parent parks. To do that you have to aggregate the parks based on the \"PARENT_NAME\" value and sum the size of the parks. The methods of the dataframe you want to use are \n",
        "```.groupby()```\n",
        "and \n",
        "```.sum()```"
      ]
    },
    {
      "cell_type": "code",
      "metadata": {
        "id": "ukYunCxr-TwY",
        "outputId": "c17ca280-1853-4871-f9b3-b138b02d1f43",
        "colab": {
          "base_uri": "https://localhost:8080/",
          "height": 312
        }
      },
      "source": [
        "pparks_parent_sizes = pparks.groupby(\"PARENT_NAME\")[\"ACREAGE\"].sum()\n",
        "\n",
        "pparks_parent_meanAcres = np.mean(pparks_unique_sizes)\n",
        "pparks_parent_medAcres = np.median(pparks_unique_sizes)\n",
        "\n",
        "ax = pparks_parent_sizes.hist(bins=int(np.ceil(np.log2(len(pparks_parent_sizes))) + 1))\n",
        "\n",
        "ax.axvline(x = pparks_parent_meanAcres, color = \"orange\", linestyle = \"-\", label = 'Mean Acreage')\n",
        "ax.axvline(x = pparks_parent_medAcres, color = \"violet\", linestyle = \"-\", label = 'Median Acreage')\n",
        "           \n",
        "ax.set_xlabel(\"Park Size (in Acres)\")\n",
        "ax.set_ylabel(\"Number of Parks\")\n",
        "ax.set_title(\"Acreage Distribution of \\\"Parent\\\" Parks In Philadelphia\")\n",
        "ax.legend()"
      ],
      "execution_count": null,
      "outputs": [
        {
          "output_type": "execute_result",
          "data": {
            "text/plain": [
              "<matplotlib.legend.Legend at 0x7f6bc91eaf90>"
            ]
          },
          "metadata": {},
          "execution_count": 33
        },
        {
          "output_type": "display_data",
          "data": {
            "text/plain": [
              "<Figure size 432x288 with 1 Axes>"
            ],
            "image/png": "[encoded data removed]"
          },
          "metadata": {
            "needs_background": "light"
          }
        }
      ]
    },
    {
      "cell_type": "markdown",
      "metadata": {
        "id": "BGEayx7x5xdl"
      },
      "source": [
        "Figure Caption: Plotted data shows the distribution of Philadelphia park sizes, by acreage, after aggregating 'child' parks which are located within larger 'parent' parks. If a park has no 'child' park, its size is considered directly (and it is still considered a 'parent' here). Reference lines are included showing the mean and median acreage values across 'parent' parks; note that the mean acreage is greater than the median acreage here too, indicating a right-skewed distribution of 'parent' park sizes."
      ]
    },
    {
      "cell_type": "markdown",
      "metadata": {
        "id": "OdMYUhIK7NY9"
      },
      "source": [
        "What could you measure about this new dataset obtained by grouping the data by PARENT_NAME that would allow you to investigate further the difference in the two dataset? "
      ]
    },
    {
      "cell_type": "code",
      "metadata": {
        "id": "jJ4gWgoV77vj"
      },
      "source": [
        "# Considering the analysis which has already been done here, an interesting\n",
        "# starting point for further analysis may be in comparing the mean and median \n",
        "# park sizes between the aggregated ('parent'-grouped) and disaggregated park \n",
        "# datasets. For example, if the mean and median are largely unchanged by the \n",
        "# aggregation, it may suggest that a considerable portion of Philadelphia parks \n",
        "# are both small (relatively-speaking, not necessarily w.r.t. the <10 acres \n",
        "# condition used previously) and unincorporated into larger parks. A next step \n",
        "# may then be to compare the number and distribution of 'small' (<10 acres) \n",
        "# parks which are still present in the aggregated dataset, to the number and \n",
        "# distribution of 'small' parks in the previous disaggregated data."
      ],
      "execution_count": null,
      "outputs": []
    }
  ]
}