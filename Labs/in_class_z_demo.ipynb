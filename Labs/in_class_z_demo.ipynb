{
  "nbformat": 4,
  "nbformat_minor": 0,
  "metadata": {
    "colab": {
      "provenance": [],
      "authorship_tag": "ABX9TyO6xm7AdqBgEJhkbiBtz8JS",
      "include_colab_link": true
    },
    "kernelspec": {
      "name": "python3",
      "display_name": "Python 3"
    },
    "language_info": {
      "name": "python"
    }
  },
  "cells": [
    {
      "cell_type": "markdown",
      "metadata": {
        "id": "view-in-github",
        "colab_type": "text"
      },
      "source": [
        "<a href=\"https://colab.research.google.com/github/udbtsteve/PUS2022_SBeattie/blob/main/Labs/in_class_z_demo.ipynb\" target=\"_parent\"><img src=\"https://colab.research.google.com/assets/colab-badge.svg\" alt=\"Open In Colab\"/></a>"
      ]
    },
    {
      "cell_type": "code",
      "execution_count": 19,
      "metadata": {
        "colab": {
          "base_uri": "https://localhost:8080/"
        },
        "id": "ItRqmoMkZ5pm",
        "outputId": "9c259c03-557d-432b-b543-ea3cc4771a26"
      },
      "outputs": [
        {
          "output_type": "execute_result",
          "data": {
            "text/plain": [
              "0   -1.864647\n",
              "dtype: float64"
            ]
          },
          "metadata": {},
          "execution_count": 19
        }
      ],
      "source": [
        "import pandas as pd\n",
        "import numpy as np\n",
        "\n",
        "data = pd.read_csv(\"https://raw.githubusercontent.com/fedhere/PUS2022_FBianco/main/classdemo/times.txt\",\n",
        "                   header=None) \n",
        "\n",
        "data.head()\n",
        "\n",
        "mu = 34 #population mean = 34 minutes\n",
        "sigma = 2.5 #pop std. dev = 2.5 minutes\n",
        "p_val = 0.95 #2 std.dev's => 95% confidence level\n",
        "\n",
        "x_bar = np.mean(data)\n",
        "N = len(data)\n",
        "\n",
        "\n",
        "Z = (mu - x_bar) / (sigma / np.sqrt(N))\n",
        "N\n",
        "x_bar\n",
        "\n",
        "\n",
        "Z\n",
        "\n",
        "# measure Z\n",
        "\n",
        "\n",
        "# once you have a value of Z, 2sigma (0.95), is the trip duration for the new \n",
        "# route statistically the same, on average, as the old route?\n",
        "\n"
      ]
    }
  ]
}